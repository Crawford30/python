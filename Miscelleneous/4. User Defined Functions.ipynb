{
 "cells": [
  {
   "cell_type": "code",
   "execution_count": 23,
   "metadata": {},
   "outputs": [
    {
     "name": "stdout",
     "output_type": "stream",
     "text": [
      "5000\n",
      "-9000\n"
     ]
    }
   ],
   "source": [
    "## Write a function that takes in a number, and multiplies it by 100\n",
    "\n",
    "## Defining the function\n",
    "def multiplier(number):\n",
    "    print(number*100)\n",
    "\n",
    "## Calling the function        \n",
    "\n",
    "multiplier(50)\n",
    "multiplier(-90)"
   ]
  },
  {
   "cell_type": "code",
   "execution_count": 24,
   "metadata": {},
   "outputs": [
    {
     "name": "stdout",
     "output_type": "stream",
     "text": [
      "300\n",
      "5\n"
     ]
    }
   ],
   "source": [
    "##Write a function that takes in two numbers, and outputs the sum\n",
    "\n",
    "## Defining the function\n",
    "def summation(number1,number2):\n",
    "    print(number1+number2)\n",
    "    \n",
    "## Calling the function        \n",
    "summation(100,200)\n",
    "summation(2,3)"
   ]
  },
  {
   "cell_type": "code",
   "execution_count": 25,
   "metadata": {},
   "outputs": [
    {
     "name": "stdout",
     "output_type": "stream",
     "text": [
      "Goodmorning Shelmith, your boss, Fridah wants to see you\n",
      "Goodmorning Brayo, your boss, Macharia wants to see you\n",
      "Goodmorning Samuel, your boss, Tom Wein wants to see you\n"
     ]
    }
   ],
   "source": [
    "##Write a function that greets a person, and informs them that their boss wants to see them.\n",
    "\n",
    "## Defining the function\n",
    "def greetings(person,boss):\n",
    "    print(\"Goodmorning %s, your boss, %s wants to see you\"%(person, boss))\n",
    "    \n",
    "## Calling the function        \n",
    "\n",
    "greetings(\"Shelmith\",\"Fridah\")\n",
    "greetings(\"Brayo\",\"Macharia\")\n",
    "greetings(\"Samuel\",\"Tom Wein\")"
   ]
  },
  {
   "cell_type": "code",
   "execution_count": 26,
   "metadata": {},
   "outputs": [
    {
     "name": "stdout",
     "output_type": "stream",
     "text": [
      "100 is an even number\n",
      "679 is an odd number\n",
      "576898655678467788898763789 is an odd number\n"
     ]
    }
   ],
   "source": [
    "# Write a function that takes in a number, checks whether it is even, and prints that the number obtained is even.\n",
    "\n",
    "## Defining the function\n",
    "def even(number):\n",
    "    if number % 2==0:\n",
    "        print(str(number)+\" is an even number\")\n",
    "    else:\n",
    "        print(str(number)+\" is an odd number\")\n",
    "        \n",
    "## Calling the function        \n",
    "even(100)\n",
    "even(679)\n",
    "even(576898655678467788898763789)"
   ]
  },
  {
   "cell_type": "code",
   "execution_count": 39,
   "metadata": {},
   "outputs": [
    {
     "name": "stdout",
     "output_type": "stream",
     "text": [
      "This name starts with an H or with a J\n",
      "This name starts with an H or with a J\n"
     ]
    }
   ],
   "source": [
    "# Write a function that checks whether a name starts a certain letter\n",
    "\n",
    "## Defining the function\n",
    "\n",
    "def startswithH(name):\n",
    "    if name.startswith(\"H\") or name.startswith(\"J\"):\n",
    "        print(\"This name starts with an H or with a J\")\n",
    "    else:\n",
    "        print(\"This name does not start with an H or with a J\")\n",
    "\n",
    "## Calling the function\n",
    "\n",
    "startswithH(\"Harry Belle\")\n",
    "startswithH(\"John Kariuki\")\n",
    "        "
   ]
  },
  {
   "cell_type": "code",
   "execution_count": 30,
   "metadata": {},
   "outputs": [
    {
     "data": {
      "text/plain": [
       "False"
      ]
     },
     "execution_count": 30,
     "metadata": {},
     "output_type": "execute_result"
    }
   ],
   "source": [
    "name = \"Shelmith\"\n",
    "name.startswith(\"H\")"
   ]
  },
  {
   "cell_type": "code",
   "execution_count": 44,
   "metadata": {},
   "outputs": [
    {
     "name": "stdout",
     "output_type": "stream",
     "text": [
      "8\n",
      "10\n",
      "70\n"
     ]
    }
   ],
   "source": [
    "# Write a function that outputs the length of a certain word\n",
    "\n",
    "## Defining the function\n",
    "\n",
    "def wordlength(name):\n",
    "    print(len(name))\n",
    "\n",
    "## Calling the function\n",
    "\n",
    "wordlength(\"Shelmith\")\n",
    "wordlength(\"Nyagathiri\")\n",
    "wordlength(\"bbhbhbwbhjhjnjxbchvghbvnfmbjhvbhzcbnmdscbsvhjnmnfbsvhfjnvmfvbjhbvjkfmn\")\n",
    "    "
   ]
  },
  {
   "cell_type": "code",
   "execution_count": 48,
   "metadata": {},
   "outputs": [
    {
     "name": "stdout",
     "output_type": "stream",
     "text": [
      "2000: This is correct\n",
      "67: This is wrong\n",
      "1000: This is correct\n"
     ]
    }
   ],
   "source": [
    "# Write a function that takes in a number, checks whether it is divisible by 5, if so, multiplies it by 100, \n",
    "# then prints that the result was successful\n",
    "\n",
    "## Defining the function\n",
    "\n",
    "def longfunction (number):\n",
    "    if number % 5 == 0:\n",
    "        print(str(number*100)+\": This is correct\")\n",
    "    else:\n",
    "        print(str(number)+\": This is wrong\")\n",
    "        \n",
    "## Calling the function\n",
    "longfunction(20)  \n",
    "longfunction(67)\n",
    "longfunction(10)"
   ]
  },
  {
   "cell_type": "code",
   "execution_count": 50,
   "metadata": {},
   "outputs": [
    {
     "name": "stdout",
     "output_type": "stream",
     "text": [
      "0 is a number in the list\n",
      "5 is a number in the list\n",
      "10 is a number in the list\n",
      "15 is a number in the list\n",
      "20 is a number in the list\n"
     ]
    }
   ],
   "source": [
    "## Write a function that takes in a list of numbers, and prints something\n",
    "\n",
    "## Defining the function\n",
    "\n",
    "def longlist(lis):\n",
    "    for item in lis:\n",
    "        print(str(item)+\" is a number in the list\")\n",
    "        \n",
    "## Calling the function\n",
    "\n",
    "ranger = list(range(0,25,5))\n",
    "longlist(ranger)\n"
   ]
  },
  {
   "cell_type": "code",
   "execution_count": null,
   "metadata": {},
   "outputs": [],
   "source": []
  }
 ],
 "metadata": {
  "kernelspec": {
   "display_name": "Python 3",
   "language": "python",
   "name": "python3"
  },
  "language_info": {
   "codemirror_mode": {
    "name": "ipython",
    "version": 3
   },
   "file_extension": ".py",
   "mimetype": "text/x-python",
   "name": "python",
   "nbconvert_exporter": "python",
   "pygments_lexer": "ipython3",
   "version": "3.6.5"
  }
 },
 "nbformat": 4,
 "nbformat_minor": 2
}

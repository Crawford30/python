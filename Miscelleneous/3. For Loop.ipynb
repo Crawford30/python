{
 "cells": [
  {
   "cell_type": "code",
   "execution_count": 2,
   "metadata": {},
   "outputs": [
    {
     "data": {
      "text/plain": [
       "[0, 1, 2, 3, 4, 5, 6, 7, 8, 9, 10]"
      ]
     },
     "execution_count": 2,
     "metadata": {},
     "output_type": "execute_result"
    }
   ],
   "source": [
    "## For Loop\n",
    "numbers = list(range(0,11,1))\n",
    "numbers\n"
   ]
  },
  {
   "cell_type": "code",
   "execution_count": 9,
   "metadata": {
    "collapsed": true
   },
   "outputs": [
    {
     "name": "stdout",
     "output_type": "stream",
     "text": [
      "0\n",
      "0\n",
      "1\n",
      "100\n",
      "2\n",
      "200\n",
      "3\n",
      "300\n",
      "4\n",
      "400\n",
      "5\n",
      "500\n",
      "6\n",
      "600\n",
      "7\n",
      "700\n",
      "8\n",
      "800\n",
      "9\n",
      "900\n",
      "10\n",
      "1000\n"
     ]
    }
   ],
   "source": [
    "for item in numbers:\n",
    "    print (item)\n",
    "    print(item *100)\n",
    "    "
   ]
  },
  {
   "cell_type": "code",
   "execution_count": 12,
   "metadata": {
    "collapsed": true
   },
   "outputs": [
    {
     "name": "stdout",
     "output_type": "stream",
     "text": [
      "0\n",
      "This is an even number\n",
      "1\n",
      "This is an odd number\n",
      "2\n",
      "This is an even number\n",
      "3\n",
      "This is an odd number\n",
      "4\n",
      "This is an even number\n",
      "5\n",
      "This is an odd number\n",
      "6\n",
      "This is an even number\n",
      "7\n",
      "This is an odd number\n",
      "8\n",
      "This is an even number\n",
      "9\n",
      "This is an odd number\n",
      "10\n",
      "This is an even number\n"
     ]
    }
   ],
   "source": [
    "for item in numbers:\n",
    "    if item % 2 ==0:\n",
    "        print(item)\n",
    "        print(\"This is an even number\")\n",
    "    else:\n",
    "        print(item)\n",
    "        print(\"This is an odd number\")"
   ]
  },
  {
   "cell_type": "code",
   "execution_count": 19,
   "metadata": {
    "collapsed": true
   },
   "outputs": [
    {
     "name": "stdout",
     "output_type": "stream",
     "text": [
      "Shelmith\n",
      "This is also an S\n",
      "Silvia\n",
      "This is also an S\n",
      "Simoh\n",
      "This is also an S\n",
      "Fridah\n",
      "This is definately not an S\n",
      "Maureen\n",
      "This is definately not an S\n"
     ]
    }
   ],
   "source": [
    "names = [\"Shelmith\",\"Silvia\",\"Simoh\",\"Fridah\",\"Maureen\"]\n",
    "\n",
    "for item in names:\n",
    "    if item.startswith(\"S\"):\n",
    "        print(item)\n",
    "        print(\"This is also an S\")\n",
    "    else:\n",
    "        print(item)\n",
    "        print(\"This is definately not an S\")"
   ]
  },
  {
   "cell_type": "code",
   "execution_count": 20,
   "metadata": {
    "collapsed": true
   },
   "outputs": [
    {
     "name": "stdout",
     "output_type": "stream",
     "text": [
      "Shelmith\n",
      "This ends with h\n",
      "Silvia\n",
      "This does not end with h\n",
      "Simoh\n",
      "This ends with h\n",
      "Fridah\n",
      "This ends with h\n",
      "Maureen\n",
      "This does not end with h\n"
     ]
    }
   ],
   "source": [
    "names = [\"Shelmith\",\"Silvia\",\"Simoh\",\"Fridah\",\"Maureen\"]\n",
    "\n",
    "for item in names:\n",
    "    if item.endswith(\"h\"):\n",
    "        print(item)\n",
    "        print(\"This ends with h\")\n",
    "    else:\n",
    "        print(item)\n",
    "        print(\"This does not end with h\")"
   ]
  },
  {
   "cell_type": "code",
   "execution_count": 23,
   "metadata": {
    "collapsed": true
   },
   "outputs": [
    {
     "name": "stdout",
     "output_type": "stream",
     "text": [
      "Shelmith\n",
      "This name has more than 7 characters\n",
      "Silvia\n",
      "This name does not have more than 7 characters\n",
      "Simoh\n",
      "This name does not have more than 7 characters\n",
      "Fridah\n",
      "This name does not have more than 7 characters\n",
      "Maureen\n",
      "This name does not have more than 7 characters\n"
     ]
    }
   ],
   "source": [
    "names = [\"Shelmith\",\"Silvia\",\"Simoh\",\"Fridah\",\"Maureen\"]\n",
    "\n",
    "for item in names:\n",
    "    if len(item)>7:\n",
    "        print(item)\n",
    "        print(\"This name has more than 7 characters\")\n",
    "    else:\n",
    "        print(item)\n",
    "        print(\"This name does not have more than 7 characters\")"
   ]
  },
  {
   "cell_type": "code",
   "execution_count": 26,
   "metadata": {},
   "outputs": [
    {
     "name": "stdout",
     "output_type": "stream",
     "text": [
      "No, you are not in here\n"
     ]
    }
   ],
   "source": [
    "if \"Kamum\" in names:\n",
    "    print(\"Definately, I am in\")\n",
    "else:\n",
    "    print(\"No, you are not in here\")"
   ]
  },
  {
   "cell_type": "code",
   "execution_count": null,
   "metadata": {},
   "outputs": [],
   "source": []
  }
 ],
 "metadata": {
  "kernelspec": {
   "display_name": "Python 3",
   "language": "python",
   "name": "python3"
  },
  "language_info": {
   "codemirror_mode": {
    "name": "ipython",
    "version": 3
   },
   "file_extension": ".py",
   "mimetype": "text/x-python",
   "name": "python",
   "nbconvert_exporter": "python",
   "pygments_lexer": "ipython3",
   "version": "3.6.5"
  }
 },
 "nbformat": 4,
 "nbformat_minor": 2
}

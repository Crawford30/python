{
 "cells": [
  {
   "cell_type": "code",
   "execution_count": 6,
   "metadata": {},
   "outputs": [],
   "source": [
    "import pandas as pd\n",
    "import numpy as np"
   ]
  },
  {
   "cell_type": "code",
   "execution_count": 25,
   "metadata": {},
   "outputs": [
    {
     "name": "stdout",
     "output_type": "stream",
     "text": [
      "This is an error message\n"
     ]
    }
   ],
   "source": [
    "try:\n",
    "    print(2+\"Hello World\")\n",
    "except:\n",
    "    print(\"This is an error message\")"
   ]
  },
  {
   "cell_type": "code",
   "execution_count": 26,
   "metadata": {},
   "outputs": [],
   "source": [
    "## Generate variables that will constitute the wafanyakazi dataset\n",
    "subject_id = np.random.choice(list(range(10000,20000,1)),size=500,replace=False)\n",
    "\n",
    "gender = np.random.choice(list([\"Male\",\"Female\"]),size = 500,replace=True)\n",
    "\n",
    "age = np.random.choice(list(range(18,51,1)),size = 500,replace=True)\n",
    "\n",
    "department = np.random.choice([\"Data\",\"Operations\",\"Finance\",\"Research Analyst\",\"Associate\"],size = 500,replace=True)\n",
    "\n",
    "role = np.random.choice([\"Junior\",\"Mid\",\"Senior\"],size = 500, replace = True)\n",
    "\n",
    "income = np.random.choice(list(range(1000,10000,217)),size = 500, replace=True)\n",
    "\n",
    "marital_status = np.random.choice([\"Single\",\"Married\",\"Divorced\"],size = 500, replace = True)\n",
    "\n",
    "county = np.random.choice([\"Nyeri\",\"Kisumu\",\"Taita\",\"Embu\",\"Kirinyaga\",\"Laikipia\",\"Wajir\",\"Mombasa\",\"Lamu\",\n",
    "                           \"Kiambu\",\"Nairobi\"],size = 500, replace=True)\n",
    "\n",
    "leave_days = np.random.choice(list(range(0,25,1)),size = 500, replace=True)\n",
    "\n",
    "promotion = np.random.choice([\"Yes\",\"No\"],size = 500, replace=True)\n",
    "\n",
    "##Combine these variables into a dictionary, then into dataframe\n",
    "wafanyikazi =pd.DataFrame({\"Sid\":subject_id,\"Gender\":gender,\"Age\":age,\"Department\":department,\n",
    "                           \"Role\": role,\"Income\": income,\"Marital_Status\":marital_status,\"County\":county,\n",
    "                           \"Leave_Days\": leave_days,\"Promotion\": promotion})\n"
   ]
  },
  {
   "cell_type": "code",
   "execution_count": 27,
   "metadata": {},
   "outputs": [],
   "source": [
    "del wafanyikazi[\"Sid\"]"
   ]
  },
  {
   "cell_type": "code",
   "execution_count": 28,
   "metadata": {},
   "outputs": [
    {
     "name": "stdout",
     "output_type": "stream",
     "text": [
      "Nyagathiri, you have already dropped this one\n"
     ]
    }
   ],
   "source": [
    "try:\n",
    "    del wafanyikazi[\"Sid\"]\n",
    "except:\n",
    "    print(\"Nyagathiri, you have already dropped this one\")"
   ]
  },
  {
   "cell_type": "code",
   "execution_count": 41,
   "metadata": {},
   "outputs": [
    {
     "data": {
      "text/plain": [
       "Income    5358.2\n",
       "Name: mean, dtype: float64"
      ]
     },
     "execution_count": 41,
     "metadata": {},
     "output_type": "execute_result"
    }
   ],
   "source": [
    "mean_income = pd.DataFrame(wafanyikazi.Income.describe()).T\n",
    "mean_income[\"mean\"].round(1)"
   ]
  },
  {
   "cell_type": "code",
   "execution_count": 51,
   "metadata": {},
   "outputs": [
    {
     "data": {
      "text/html": [
       "<div>\n",
       "<style scoped>\n",
       "    .dataframe tbody tr th:only-of-type {\n",
       "        vertical-align: middle;\n",
       "    }\n",
       "\n",
       "    .dataframe tbody tr th {\n",
       "        vertical-align: top;\n",
       "    }\n",
       "\n",
       "    .dataframe thead th {\n",
       "        text-align: right;\n",
       "    }\n",
       "</style>\n",
       "<table border=\"1\" class=\"dataframe\">\n",
       "  <thead>\n",
       "    <tr style=\"text-align: right;\">\n",
       "      <th></th>\n",
       "      <th>Gender</th>\n",
       "      <th>Count</th>\n",
       "      <th>Percentage</th>\n",
       "    </tr>\n",
       "  </thead>\n",
       "  <tbody>\n",
       "    <tr>\n",
       "      <th>0</th>\n",
       "      <td>Female</td>\n",
       "      <td>254</td>\n",
       "      <td>51.0</td>\n",
       "    </tr>\n",
       "    <tr>\n",
       "      <th>1</th>\n",
       "      <td>Male</td>\n",
       "      <td>246</td>\n",
       "      <td>49.0</td>\n",
       "    </tr>\n",
       "  </tbody>\n",
       "</table>\n",
       "</div>"
      ],
      "text/plain": [
       "   Gender  Count  Percentage\n",
       "0  Female    254        51.0\n",
       "1    Male    246        49.0"
      ]
     },
     "execution_count": 51,
     "metadata": {},
     "output_type": "execute_result"
    }
   ],
   "source": [
    "count_gender = pd.DataFrame(wafanyikazi.Gender.value_counts().reset_index())\n",
    "count_gender.columns=[\"Gender\",\"Count\"]\n",
    "count_gender[\"Percentage\"]=((count_gender.Count/count_gender.Count.sum())*100).round(0)\n",
    "count_gender"
   ]
  },
  {
   "cell_type": "code",
   "execution_count": 52,
   "metadata": {},
   "outputs": [
    {
     "data": {
      "text/plain": [
       "0.492"
      ]
     },
     "execution_count": 52,
     "metadata": {},
     "output_type": "execute_result"
    }
   ],
   "source": [
    "246/(254+246)"
   ]
  },
  {
   "cell_type": "code",
   "execution_count": null,
   "metadata": {},
   "outputs": [],
   "source": []
  }
 ],
 "metadata": {
  "kernelspec": {
   "display_name": "Python 3",
   "language": "python",
   "name": "python3"
  },
  "language_info": {
   "codemirror_mode": {
    "name": "ipython",
    "version": 3
   },
   "file_extension": ".py",
   "mimetype": "text/x-python",
   "name": "python",
   "nbconvert_exporter": "python",
   "pygments_lexer": "ipython3",
   "version": "3.6.5"
  }
 },
 "nbformat": 4,
 "nbformat_minor": 2
}

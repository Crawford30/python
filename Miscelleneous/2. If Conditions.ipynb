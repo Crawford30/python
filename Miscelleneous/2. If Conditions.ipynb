{
 "cells": [
  {
   "cell_type": "code",
   "execution_count": 2,
   "metadata": {},
   "outputs": [
    {
     "name": "stdout",
     "output_type": "stream",
     "text": [
      "Her name is Shelmith\n"
     ]
    }
   ],
   "source": [
    "## if condition\n",
    "name = \"Shelmith\"\n",
    "\n",
    "if name == \"Shelmith\":\n",
    "    print (\"Her name is Shelmith\")\n"
   ]
  },
  {
   "cell_type": "code",
   "execution_count": 8,
   "metadata": {},
   "outputs": [
    {
     "name": "stdout",
     "output_type": "stream",
     "text": [
      "Her name is Shelmith\n"
     ]
    }
   ],
   "source": [
    "name = \"Shelmith\"\n",
    "\n",
    "if name == \"Shelmith\":\n",
    "    print (\"Her name is Shelmith\")\n",
    "else:\n",
    "    print(\"Her name is not Shelmith\")\n",
    "    "
   ]
  },
  {
   "cell_type": "code",
   "execution_count": 26,
   "metadata": {},
   "outputs": [
    {
     "name": "stdout",
     "output_type": "stream",
     "text": [
      "[0, 1, 2, 3, 4, 5, 6, 7, 8, 9]\n",
      "Foreign\n"
     ]
    }
   ],
   "source": [
    "numbers = list(range(0,10,1))\n",
    "print(numbers)\n",
    "\n",
    "if 100 in numbers:\n",
    "    print(\"This digit is part of the numbers\")\n",
    "else:\n",
    "    print(\"Foreign\")"
   ]
  },
  {
   "cell_type": "code",
   "execution_count": 30,
   "metadata": {},
   "outputs": [
    {
     "name": "stdout",
     "output_type": "stream",
     "text": [
      "This is an even number\n"
     ]
    }
   ],
   "source": [
    "numbers = list(range(0,10,1))\n",
    "numbers\n",
    "\n",
    "if numbers[3]%2 == 0:\n",
    "    print(\"This is an even number\")\n",
    "else:\n",
    "    print(\"This is an odd number\")"
   ]
  },
  {
   "cell_type": "code",
   "execution_count": 37,
   "metadata": {},
   "outputs": [
    {
     "name": "stdout",
     "output_type": "stream",
     "text": [
      "This name is long\n"
     ]
    }
   ],
   "source": [
    "name = \"hjbjhbhjbvhjbjkbjhgvbnmkb\"\n",
    "\n",
    "if len(name)<5:\n",
    "    print (\"This name is short\")\n",
    "else:\n",
    "    print (\"This name is long\")"
   ]
  },
  {
   "cell_type": "code",
   "execution_count": 43,
   "metadata": {},
   "outputs": [
    {
     "name": "stdout",
     "output_type": "stream",
     "text": [
      "This name is abit long\n"
     ]
    }
   ],
   "source": [
    "name = \"Kahihu\"\n",
    "if len(name)<5:\n",
    "    print (\"This name is short\")\n",
    "elif len(name)>5 and len(name)<10:\n",
    "    print (\"This name is abit long\")\n",
    "else:\n",
    "    print (\"This name is quite long\")"
   ]
  },
  {
   "cell_type": "code",
   "execution_count": 47,
   "metadata": {},
   "outputs": [
    {
     "name": "stdout",
     "output_type": "stream",
     "text": [
      "Damn, these names are unequal\n"
     ]
    }
   ],
   "source": [
    "firstname = \"james\"\n",
    "lastname = \"macharia\"\n",
    "department = \"data\"\n",
    "\n",
    "if len(firstname) == len(lastname) :\n",
    "    print(\"Wow, these names are equal\")\n",
    "else:\n",
    "    print(\"Damn, these names are unequal\")"
   ]
  },
  {
   "cell_type": "code",
   "execution_count": 57,
   "metadata": {},
   "outputs": [
    {
     "name": "stdout",
     "output_type": "stream",
     "text": [
      "WTF\n"
     ]
    }
   ],
   "source": [
    "firstname = \"silvia\"\n",
    "lastname = \"kahihu\"\n",
    "department = \"data\"\n",
    "if (len(firstname) == len(lastname)) and department !=\"data\":\n",
    "    print(\"Yeeeeeeeyyyy\")\n",
    "else:\n",
    "    print(\"WTF\")"
   ]
  },
  {
   "cell_type": "code",
   "execution_count": null,
   "metadata": {},
   "outputs": [],
   "source": []
  }
 ],
 "metadata": {
  "kernelspec": {
   "display_name": "Python 3",
   "language": "python",
   "name": "python3"
  },
  "language_info": {
   "codemirror_mode": {
    "name": "ipython",
    "version": 3
   },
   "file_extension": ".py",
   "mimetype": "text/x-python",
   "name": "python",
   "nbconvert_exporter": "python",
   "pygments_lexer": "ipython3",
   "version": "3.6.5"
  }
 },
 "nbformat": 4,
 "nbformat_minor": 2
}

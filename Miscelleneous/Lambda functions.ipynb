{
 "cells": [
  {
   "cell_type": "markdown",
   "metadata": {},
   "source": [
    "### Shelmith Kariuki\n",
    "### Lambda and Map Functions 😀 👩‍💻\n",
    "### 7th November, 2018"
   ]
  },
  {
   "cell_type": "markdown",
   "metadata": {},
   "source": [
    "Lambda functions: (acronym: lace) lambda arguments colon expression (I normally use acronyms to remember some of these functions, instead of searching in google everytime).\n",
    "\n",
    "Map functions: (acronym:fuse) function,sequence"
   ]
  },
  {
   "cell_type": "markdown",
   "metadata": {},
   "source": [
    "Question 1a: Write a lambda function that takes in a number and multiplies them by another number"
   ]
  },
  {
   "cell_type": "code",
   "execution_count": 1,
   "metadata": {},
   "outputs": [
    {
     "name": "stdout",
     "output_type": "stream",
     "text": [
      "20\n",
      "692923\n"
     ]
    }
   ],
   "source": [
    "ten_multiplier = lambda x, y: x*y\n",
    "print(ten_multiplier(2,10))\n",
    "print(ten_multiplier(98989,7))\n"
   ]
  },
  {
   "cell_type": "markdown",
   "metadata": {},
   "source": [
    "Question 1b: Write a lambda function that takes in several numbers and multiplies them by 10"
   ]
  },
  {
   "cell_type": "code",
   "execution_count": 2,
   "metadata": {},
   "outputs": [
    {
     "name": "stdout",
     "output_type": "stream",
     "text": [
      "[10, 20, 30, 40, 50]\n"
     ]
    }
   ],
   "source": [
    "ten_multiplier = lambda x : x*10\n",
    "nums = [1,2,3,4,5]\n",
    "ten_multiplier_map = map(ten_multiplier, nums)\n",
    "print(list(ten_multiplier_map)) \n",
    "\n",
    "##remember to use the list key word"
   ]
  },
  {
   "cell_type": "markdown",
   "metadata": {},
   "source": [
    "Question 2a. Write a function that concatenates the first and last name, separated by space."
   ]
  },
  {
   "cell_type": "code",
   "execution_count": 3,
   "metadata": {},
   "outputs": [
    {
     "data": {
      "text/plain": [
       "'Shelmith Kariuki'"
      ]
     },
     "execution_count": 3,
     "metadata": {},
     "output_type": "execute_result"
    }
   ],
   "source": [
    "concat = lambda first,space,last: first + space + last\n",
    "concat(\"Shelmith\" , \" \",\"Kariuki\")"
   ]
  },
  {
   "cell_type": "markdown",
   "metadata": {},
   "source": [
    "Question 2b. Write a function that takes in peoples first names and last names and concatenates them"
   ]
  },
  {
   "cell_type": "code",
   "execution_count": 4,
   "metadata": {},
   "outputs": [
    {
     "name": "stdout",
     "output_type": "stream",
     "text": [
      "['John Kariuki', 'Teresa Kariuki', 'Shelmith Kariuki', 'Christine Kariuki', 'Brenda Kariuki']\n"
     ]
    }
   ],
   "source": [
    "first = [\"John\",\"Teresa\",\"Shelmith\",\"Christine\",\"Brenda\"]\n",
    "concat = lambda first: first + \" \" + \"Kariuki\"\n",
    "concat2 = map(concat,first)\n",
    "print(list(concat2))\n"
   ]
  },
  {
   "cell_type": "markdown",
   "metadata": {},
   "source": [
    "Question 3a: Write a function that takes in a statement and counts the number of characters in it."
   ]
  },
  {
   "cell_type": "code",
   "execution_count": 5,
   "metadata": {},
   "outputs": [
    {
     "data": {
      "text/plain": [
       "26"
      ]
     },
     "execution_count": 5,
     "metadata": {},
     "output_type": "execute_result"
    }
   ],
   "source": [
    "state_len = lambda word: len(word)\n",
    "state_len(\"Today is a very boring day, but hey, I have learned something new today\")\n",
    "state_len(\"Hi\")\n",
    "state_len(\"Shelmith is a data analyst\")"
   ]
  },
  {
   "cell_type": "markdown",
   "metadata": {},
   "source": [
    "Question 3b: Write a function that takes in several statements and counts the number of characters in each one of them."
   ]
  },
  {
   "cell_type": "code",
   "execution_count": 6,
   "metadata": {},
   "outputs": [
    {
     "name": "stdout",
     "output_type": "stream",
     "text": [
      "[10, 20, 22, 36]\n"
     ]
    }
   ],
   "source": [
    "state_len = lambda word: len(word)\n",
    "string_vals = [\"I am happy\",\"But I have a problem\",\"Emotional Intelligence\",\"I was taught that by someone special\"]\n",
    "state_len2 = map(state_len, string_vals)\n",
    "print(list(state_len2))"
   ]
  },
  {
   "cell_type": "markdown",
   "metadata": {},
   "source": [
    "Question 4a: Write a function that takes in someone's name and converts it to upper case."
   ]
  },
  {
   "cell_type": "code",
   "execution_count": 7,
   "metadata": {},
   "outputs": [
    {
     "name": "stdout",
     "output_type": "stream",
     "text": [
      "MARK MILLRINE\n",
      "JAMES KENGAH\n",
      "CYRUS MURIITHI\n"
     ]
    }
   ],
   "source": [
    "to_upper = lambda name: name.upper()\n",
    "\n",
    "print(to_upper(\"Mark Millrine\"))\n",
    "print(to_upper(\"James Kengah\"))\n",
    "print(to_upper(\"Cyrus Muriithi\"))"
   ]
  },
  {
   "cell_type": "markdown",
   "metadata": {},
   "source": [
    "Question 4b: Write a function that takes in several people's names and converts it to upper case."
   ]
  },
  {
   "cell_type": "code",
   "execution_count": 8,
   "metadata": {},
   "outputs": [
    {
     "name": "stdout",
     "output_type": "stream",
     "text": [
      "[\"NAOMI NG'ANG'A\", 'SHELMITH KARIUKI', 'CHRISTINE OKEYO', 'SILVIA KAHIHU', 'BENJAMIN MWANZA']\n"
     ]
    }
   ],
   "source": [
    "to_upper = lambda name: name.upper()\n",
    "names = [\"Naomi Ng'ang'a\",\"Shelmith KAriuki\",\"Christine Okeyo\",\"Silvia Kahihu\",\n",
    "         \"Benjamin Mwanza\"]\n",
    "to_upper2 = map(to_upper, names)\n",
    "print(list(to_upper2))"
   ]
  },
  {
   "cell_type": "code",
   "execution_count": 20,
   "metadata": {},
   "outputs": [
    {
     "data": {
      "text/html": [
       "<div>\n",
       "<style scoped>\n",
       "    .dataframe tbody tr th:only-of-type {\n",
       "        vertical-align: middle;\n",
       "    }\n",
       "\n",
       "    .dataframe tbody tr th {\n",
       "        vertical-align: top;\n",
       "    }\n",
       "\n",
       "    .dataframe thead th {\n",
       "        text-align: right;\n",
       "    }\n",
       "</style>\n",
       "<table border=\"1\" class=\"dataframe\">\n",
       "  <thead>\n",
       "    <tr style=\"text-align: right;\">\n",
       "      <th></th>\n",
       "      <th>0</th>\n",
       "    </tr>\n",
       "  </thead>\n",
       "  <tbody>\n",
       "    <tr>\n",
       "      <th>0</th>\n",
       "      <td>NAOMI NG'ANG'A</td>\n",
       "    </tr>\n",
       "    <tr>\n",
       "      <th>1</th>\n",
       "      <td>SHELMITH KARIUKI</td>\n",
       "    </tr>\n",
       "    <tr>\n",
       "      <th>2</th>\n",
       "      <td>CHRISTINE OKEYO</td>\n",
       "    </tr>\n",
       "    <tr>\n",
       "      <th>3</th>\n",
       "      <td>SILVIA KAHIHU</td>\n",
       "    </tr>\n",
       "    <tr>\n",
       "      <th>4</th>\n",
       "      <td>BENJAMIN MWANZA</td>\n",
       "    </tr>\n",
       "  </tbody>\n",
       "</table>\n",
       "</div>"
      ],
      "text/plain": [
       "                  0\n",
       "0    NAOMI NG'ANG'A\n",
       "1  SHELMITH KARIUKI\n",
       "2   CHRISTINE OKEYO\n",
       "3     SILVIA KAHIHU\n",
       "4   BENJAMIN MWANZA"
      ]
     },
     "execution_count": 20,
     "metadata": {},
     "output_type": "execute_result"
    }
   ],
   "source": [
    "import pandas as pd\n",
    "names2 = pd.DataFrame(pd.Series(names).map(to_upper))\n",
    "names2"
   ]
  },
  {
   "cell_type": "markdown",
   "metadata": {},
   "source": [
    "### END!!! I am now confident of using lambda and map functions in python 💃 💃 💃 💃 💃"
   ]
  },
  {
   "cell_type": "code",
   "execution_count": null,
   "metadata": {},
   "outputs": [],
   "source": []
  }
 ],
 "metadata": {
  "kernelspec": {
   "display_name": "Python 3",
   "language": "python",
   "name": "python3"
  },
  "language_info": {
   "codemirror_mode": {
    "name": "ipython",
    "version": 3
   },
   "file_extension": ".py",
   "mimetype": "text/x-python",
   "name": "python",
   "nbconvert_exporter": "python",
   "pygments_lexer": "ipython3",
   "version": "3.6.5"
  }
 },
 "nbformat": 4,
 "nbformat_minor": 2
}

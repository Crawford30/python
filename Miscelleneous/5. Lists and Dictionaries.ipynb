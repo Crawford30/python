{
 "cells": [
  {
   "cell_type": "code",
   "execution_count": 1,
   "metadata": {},
   "outputs": [],
   "source": [
    "# Import the libraries required\n",
    "import pandas as pd\n",
    "import numpy as np"
   ]
  },
  {
   "cell_type": "code",
   "execution_count": 2,
   "metadata": {},
   "outputs": [],
   "source": [
    "# Simulate the towns dataset variables\n",
    "counties = [\"Kiambu\",\"Kiambu\",\"Nairobi\",\"Nyeri\",\"Kisumu\",\"Baringo\",\"Coast\"]\n",
    "towns = [\"Kawangware\",\"Kinoo\",\"Umoja\",\"Othaya\",\"Rongo\",\"Mogotio\",\"Lamu\"]\n",
    "pop_size = [345,768,978,586,349,472,563]\n",
    "residence = [\"Urban\",\"Rural\",\"Urban\",\"Rural\",\"Rural\",\"Urban\",\"Urban\"]\n",
    "party = [\"Jubilee\",\"Jubilee\",\"Jubilee\",\"Jubilee\",\"NRM\",\"NRM\",\"NRM\"]"
   ]
  },
  {
   "cell_type": "code",
   "execution_count": 3,
   "metadata": {},
   "outputs": [
    {
     "data": {
      "text/html": [
       "<div>\n",
       "<style scoped>\n",
       "    .dataframe tbody tr th:only-of-type {\n",
       "        vertical-align: middle;\n",
       "    }\n",
       "\n",
       "    .dataframe tbody tr th {\n",
       "        vertical-align: top;\n",
       "    }\n",
       "\n",
       "    .dataframe thead th {\n",
       "        text-align: right;\n",
       "    }\n",
       "</style>\n",
       "<table border=\"1\" class=\"dataframe\">\n",
       "  <thead>\n",
       "    <tr style=\"text-align: right;\">\n",
       "      <th></th>\n",
       "      <th>Counties</th>\n",
       "      <th>Towns</th>\n",
       "      <th>PopSize</th>\n",
       "      <th>Residence</th>\n",
       "      <th>Party</th>\n",
       "    </tr>\n",
       "  </thead>\n",
       "  <tbody>\n",
       "    <tr>\n",
       "      <th>0</th>\n",
       "      <td>Kiambu</td>\n",
       "      <td>Kawangware</td>\n",
       "      <td>345</td>\n",
       "      <td>Urban</td>\n",
       "      <td>Jubilee</td>\n",
       "    </tr>\n",
       "    <tr>\n",
       "      <th>1</th>\n",
       "      <td>Kiambu</td>\n",
       "      <td>Kinoo</td>\n",
       "      <td>768</td>\n",
       "      <td>Rural</td>\n",
       "      <td>Jubilee</td>\n",
       "    </tr>\n",
       "    <tr>\n",
       "      <th>2</th>\n",
       "      <td>Nairobi</td>\n",
       "      <td>Umoja</td>\n",
       "      <td>978</td>\n",
       "      <td>Urban</td>\n",
       "      <td>Jubilee</td>\n",
       "    </tr>\n",
       "    <tr>\n",
       "      <th>3</th>\n",
       "      <td>Nyeri</td>\n",
       "      <td>Othaya</td>\n",
       "      <td>586</td>\n",
       "      <td>Rural</td>\n",
       "      <td>Jubilee</td>\n",
       "    </tr>\n",
       "    <tr>\n",
       "      <th>4</th>\n",
       "      <td>Kisumu</td>\n",
       "      <td>Rongo</td>\n",
       "      <td>349</td>\n",
       "      <td>Rural</td>\n",
       "      <td>NRM</td>\n",
       "    </tr>\n",
       "    <tr>\n",
       "      <th>5</th>\n",
       "      <td>Baringo</td>\n",
       "      <td>Mogotio</td>\n",
       "      <td>472</td>\n",
       "      <td>Urban</td>\n",
       "      <td>NRM</td>\n",
       "    </tr>\n",
       "    <tr>\n",
       "      <th>6</th>\n",
       "      <td>Coast</td>\n",
       "      <td>Lamu</td>\n",
       "      <td>563</td>\n",
       "      <td>Urban</td>\n",
       "      <td>NRM</td>\n",
       "    </tr>\n",
       "  </tbody>\n",
       "</table>\n",
       "</div>"
      ],
      "text/plain": [
       "  Counties       Towns  PopSize Residence    Party\n",
       "0   Kiambu  Kawangware      345     Urban  Jubilee\n",
       "1   Kiambu       Kinoo      768     Rural  Jubilee\n",
       "2  Nairobi       Umoja      978     Urban  Jubilee\n",
       "3    Nyeri      Othaya      586     Rural  Jubilee\n",
       "4   Kisumu       Rongo      349     Rural      NRM\n",
       "5  Baringo     Mogotio      472     Urban      NRM\n",
       "6    Coast        Lamu      563     Urban      NRM"
      ]
     },
     "execution_count": 3,
     "metadata": {},
     "output_type": "execute_result"
    }
   ],
   "source": [
    "# Create the towns dataset\n",
    "townsdataset = {\"Counties\":counties,\"Towns\":towns,\"PopSize\":pop_size, \"Residence\":residence, \"Party\":party}\n",
    "townsdataset = pd.DataFrame(townsdataset)\n",
    "townsdataset"
   ]
  },
  {
   "cell_type": "code",
   "execution_count": 4,
   "metadata": {},
   "outputs": [
    {
     "name": "stdout",
     "output_type": "stream",
     "text": [
      "This dataset has 7 rows and 5 columns\n"
     ]
    }
   ],
   "source": [
    "# Inspect the number of rows in this dataset\n",
    "townsdataset.shape[0]\n",
    "townsdataset.shape[1]\n",
    "print(\"This dataset has \"+str(townsdataset.shape[0])+\" rows and \"+ str(townsdataset.shape[1])+\" columns\")"
   ]
  },
  {
   "cell_type": "code",
   "execution_count": 5,
   "metadata": {},
   "outputs": [
    {
     "data": {
      "text/html": [
       "<div>\n",
       "<style scoped>\n",
       "    .dataframe tbody tr th:only-of-type {\n",
       "        vertical-align: middle;\n",
       "    }\n",
       "\n",
       "    .dataframe tbody tr th {\n",
       "        vertical-align: top;\n",
       "    }\n",
       "\n",
       "    .dataframe thead th {\n",
       "        text-align: right;\n",
       "    }\n",
       "</style>\n",
       "<table border=\"1\" class=\"dataframe\">\n",
       "  <thead>\n",
       "    <tr style=\"text-align: right;\">\n",
       "      <th></th>\n",
       "      <th>Counties</th>\n",
       "      <th>Towns</th>\n",
       "      <th>PopSize</th>\n",
       "      <th>Residence</th>\n",
       "      <th>Party</th>\n",
       "    </tr>\n",
       "  </thead>\n",
       "  <tbody>\n",
       "    <tr>\n",
       "      <th>0</th>\n",
       "      <td>Kiambu</td>\n",
       "      <td>Kawangware</td>\n",
       "      <td>345</td>\n",
       "      <td>Urban</td>\n",
       "      <td>Jubilee</td>\n",
       "    </tr>\n",
       "    <tr>\n",
       "      <th>1</th>\n",
       "      <td>Kiambu</td>\n",
       "      <td>Kinoo</td>\n",
       "      <td>768</td>\n",
       "      <td>Rural</td>\n",
       "      <td>Jubilee</td>\n",
       "    </tr>\n",
       "    <tr>\n",
       "      <th>2</th>\n",
       "      <td>Nairobi</td>\n",
       "      <td>Umoja</td>\n",
       "      <td>978</td>\n",
       "      <td>Urban</td>\n",
       "      <td>Jubilee</td>\n",
       "    </tr>\n",
       "    <tr>\n",
       "      <th>3</th>\n",
       "      <td>Nyeri</td>\n",
       "      <td>Othaya</td>\n",
       "      <td>586</td>\n",
       "      <td>Rural</td>\n",
       "      <td>Jubilee</td>\n",
       "    </tr>\n",
       "    <tr>\n",
       "      <th>4</th>\n",
       "      <td>Kisumu</td>\n",
       "      <td>Rongo</td>\n",
       "      <td>349</td>\n",
       "      <td>Rural</td>\n",
       "      <td>NRM</td>\n",
       "    </tr>\n",
       "    <tr>\n",
       "      <th>5</th>\n",
       "      <td>Baringo</td>\n",
       "      <td>Mogotio</td>\n",
       "      <td>472</td>\n",
       "      <td>Urban</td>\n",
       "      <td>Jubilee</td>\n",
       "    </tr>\n",
       "    <tr>\n",
       "      <th>6</th>\n",
       "      <td>Coast</td>\n",
       "      <td>Lamu</td>\n",
       "      <td>563</td>\n",
       "      <td>Urban</td>\n",
       "      <td>NRM</td>\n",
       "    </tr>\n",
       "  </tbody>\n",
       "</table>\n",
       "</div>"
      ],
      "text/plain": [
       "  Counties       Towns  PopSize Residence    Party\n",
       "0   Kiambu  Kawangware      345     Urban  Jubilee\n",
       "1   Kiambu       Kinoo      768     Rural  Jubilee\n",
       "2  Nairobi       Umoja      978     Urban  Jubilee\n",
       "3    Nyeri      Othaya      586     Rural  Jubilee\n",
       "4   Kisumu       Rongo      349     Rural      NRM\n",
       "5  Baringo     Mogotio      472     Urban  Jubilee\n",
       "6    Coast        Lamu      563     Urban      NRM"
      ]
     },
     "execution_count": 5,
     "metadata": {},
     "output_type": "execute_result"
    }
   ],
   "source": [
    "# Using vector indexation to replace values\n",
    "#townsdataset.at[5,\"PopSize\"] = 47200\n",
    "townsdataset.iat[5,4] = \"Jubilee\"\n",
    "townsdataset"
   ]
  },
  {
   "cell_type": "code",
   "execution_count": 6,
   "metadata": {},
   "outputs": [
    {
     "data": {
      "text/html": [
       "<div>\n",
       "<style scoped>\n",
       "    .dataframe tbody tr th:only-of-type {\n",
       "        vertical-align: middle;\n",
       "    }\n",
       "\n",
       "    .dataframe tbody tr th {\n",
       "        vertical-align: top;\n",
       "    }\n",
       "\n",
       "    .dataframe thead th {\n",
       "        text-align: right;\n",
       "    }\n",
       "</style>\n",
       "<table border=\"1\" class=\"dataframe\">\n",
       "  <thead>\n",
       "    <tr style=\"text-align: right;\">\n",
       "      <th></th>\n",
       "      <th>Counties</th>\n",
       "      <th>Party</th>\n",
       "    </tr>\n",
       "  </thead>\n",
       "  <tbody>\n",
       "    <tr>\n",
       "      <th>0</th>\n",
       "      <td>Kiambu</td>\n",
       "      <td>Jubilee</td>\n",
       "    </tr>\n",
       "    <tr>\n",
       "      <th>1</th>\n",
       "      <td>Kiambu</td>\n",
       "      <td>Jubilee</td>\n",
       "    </tr>\n",
       "    <tr>\n",
       "      <th>2</th>\n",
       "      <td>Nairobi</td>\n",
       "      <td>Jubilee</td>\n",
       "    </tr>\n",
       "    <tr>\n",
       "      <th>3</th>\n",
       "      <td>Nyeri</td>\n",
       "      <td>Jubilee</td>\n",
       "    </tr>\n",
       "    <tr>\n",
       "      <th>4</th>\n",
       "      <td>Kisumu</td>\n",
       "      <td>NRM</td>\n",
       "    </tr>\n",
       "    <tr>\n",
       "      <th>5</th>\n",
       "      <td>Baringo</td>\n",
       "      <td>Jubilee</td>\n",
       "    </tr>\n",
       "    <tr>\n",
       "      <th>6</th>\n",
       "      <td>Coast</td>\n",
       "      <td>NRM</td>\n",
       "    </tr>\n",
       "  </tbody>\n",
       "</table>\n",
       "</div>"
      ],
      "text/plain": [
       "  Counties    Party\n",
       "0   Kiambu  Jubilee\n",
       "1   Kiambu  Jubilee\n",
       "2  Nairobi  Jubilee\n",
       "3    Nyeri  Jubilee\n",
       "4   Kisumu      NRM\n",
       "5  Baringo  Jubilee\n",
       "6    Coast      NRM"
      ]
     },
     "execution_count": 6,
     "metadata": {},
     "output_type": "execute_result"
    }
   ],
   "source": [
    "## Selecting certain columns\n",
    "townsdataset2 = townsdataset[[\"Counties\",\"Party\"]]\n",
    "townsdataset2"
   ]
  },
  {
   "cell_type": "code",
   "execution_count": 7,
   "metadata": {},
   "outputs": [
    {
     "data": {
      "text/html": [
       "<div>\n",
       "<style scoped>\n",
       "    .dataframe tbody tr th:only-of-type {\n",
       "        vertical-align: middle;\n",
       "    }\n",
       "\n",
       "    .dataframe tbody tr th {\n",
       "        vertical-align: top;\n",
       "    }\n",
       "\n",
       "    .dataframe thead th {\n",
       "        text-align: right;\n",
       "    }\n",
       "</style>\n",
       "<table border=\"1\" class=\"dataframe\">\n",
       "  <thead>\n",
       "    <tr style=\"text-align: right;\">\n",
       "      <th></th>\n",
       "      <th>Counties</th>\n",
       "      <th>Towns</th>\n",
       "      <th>PopSize</th>\n",
       "      <th>Residence</th>\n",
       "      <th>Party</th>\n",
       "      <th>Party2</th>\n",
       "    </tr>\n",
       "  </thead>\n",
       "  <tbody>\n",
       "    <tr>\n",
       "      <th>0</th>\n",
       "      <td>Kiambu</td>\n",
       "      <td>Kawangware</td>\n",
       "      <td>345</td>\n",
       "      <td>Urban</td>\n",
       "      <td>Jubilee</td>\n",
       "      <td>J</td>\n",
       "    </tr>\n",
       "    <tr>\n",
       "      <th>1</th>\n",
       "      <td>Kiambu</td>\n",
       "      <td>Kinoo</td>\n",
       "      <td>768</td>\n",
       "      <td>Rural</td>\n",
       "      <td>Jubilee</td>\n",
       "      <td>J</td>\n",
       "    </tr>\n",
       "    <tr>\n",
       "      <th>2</th>\n",
       "      <td>Nairobi</td>\n",
       "      <td>Umoja</td>\n",
       "      <td>978</td>\n",
       "      <td>Urban</td>\n",
       "      <td>Jubilee</td>\n",
       "      <td>J</td>\n",
       "    </tr>\n",
       "    <tr>\n",
       "      <th>3</th>\n",
       "      <td>Nyeri</td>\n",
       "      <td>Othaya</td>\n",
       "      <td>586</td>\n",
       "      <td>Rural</td>\n",
       "      <td>Jubilee</td>\n",
       "      <td>J</td>\n",
       "    </tr>\n",
       "    <tr>\n",
       "      <th>4</th>\n",
       "      <td>Kisumu</td>\n",
       "      <td>Rongo</td>\n",
       "      <td>349</td>\n",
       "      <td>Rural</td>\n",
       "      <td>NRM</td>\n",
       "      <td>N</td>\n",
       "    </tr>\n",
       "    <tr>\n",
       "      <th>5</th>\n",
       "      <td>Baringo</td>\n",
       "      <td>Mogotio</td>\n",
       "      <td>472</td>\n",
       "      <td>Urban</td>\n",
       "      <td>Jubilee</td>\n",
       "      <td>J</td>\n",
       "    </tr>\n",
       "    <tr>\n",
       "      <th>6</th>\n",
       "      <td>Coast</td>\n",
       "      <td>Lamu</td>\n",
       "      <td>563</td>\n",
       "      <td>Urban</td>\n",
       "      <td>NRM</td>\n",
       "      <td>N</td>\n",
       "    </tr>\n",
       "  </tbody>\n",
       "</table>\n",
       "</div>"
      ],
      "text/plain": [
       "  Counties       Towns  PopSize Residence    Party Party2\n",
       "0   Kiambu  Kawangware      345     Urban  Jubilee      J\n",
       "1   Kiambu       Kinoo      768     Rural  Jubilee      J\n",
       "2  Nairobi       Umoja      978     Urban  Jubilee      J\n",
       "3    Nyeri      Othaya      586     Rural  Jubilee      J\n",
       "4   Kisumu       Rongo      349     Rural      NRM      N\n",
       "5  Baringo     Mogotio      472     Urban  Jubilee      J\n",
       "6    Coast        Lamu      563     Urban      NRM      N"
      ]
     },
     "execution_count": 7,
     "metadata": {},
     "output_type": "execute_result"
    }
   ],
   "source": [
    "## Generating a new column using np.where\n",
    "townsdataset[\"Party2\"] = np.where(townsdataset[\"Party\"] == \"Jubilee\",\"J\",\"N\")\n",
    "townsdataset    "
   ]
  },
  {
   "cell_type": "code",
   "execution_count": 8,
   "metadata": {},
   "outputs": [
    {
     "data": {
      "text/plain": [
       "580.1428571428571"
      ]
     },
     "execution_count": 8,
     "metadata": {},
     "output_type": "execute_result"
    }
   ],
   "source": [
    "## Calculate the mean population size using inbuilt functions\n",
    "townsdataset[\"PopSize\"].mean()"
   ]
  },
  {
   "cell_type": "code",
   "execution_count": 9,
   "metadata": {},
   "outputs": [
    {
     "data": {
      "text/plain": [
       "580.1428571428571"
      ]
     },
     "execution_count": 9,
     "metadata": {},
     "output_type": "execute_result"
    }
   ],
   "source": [
    "## Calculate the mean population size using mathematical formula\n",
    "(345+768+978+586+349+472+563)/7"
   ]
  },
  {
   "cell_type": "code",
   "execution_count": 10,
   "metadata": {},
   "outputs": [
    {
     "data": {
      "text/html": [
       "<div>\n",
       "<style scoped>\n",
       "    .dataframe tbody tr th:only-of-type {\n",
       "        vertical-align: middle;\n",
       "    }\n",
       "\n",
       "    .dataframe tbody tr th {\n",
       "        vertical-align: top;\n",
       "    }\n",
       "\n",
       "    .dataframe thead th {\n",
       "        text-align: right;\n",
       "    }\n",
       "</style>\n",
       "<table border=\"1\" class=\"dataframe\">\n",
       "  <thead>\n",
       "    <tr style=\"text-align: right;\">\n",
       "      <th></th>\n",
       "      <th>Party</th>\n",
       "      <th>Mean Population Size</th>\n",
       "    </tr>\n",
       "  </thead>\n",
       "  <tbody>\n",
       "    <tr>\n",
       "      <th>0</th>\n",
       "      <td>Jubilee</td>\n",
       "      <td>629.8</td>\n",
       "    </tr>\n",
       "    <tr>\n",
       "      <th>1</th>\n",
       "      <td>NRM</td>\n",
       "      <td>456.0</td>\n",
       "    </tr>\n",
       "  </tbody>\n",
       "</table>\n",
       "</div>"
      ],
      "text/plain": [
       "     Party  Mean Population Size\n",
       "0  Jubilee                 629.8\n",
       "1      NRM                 456.0"
      ]
     },
     "execution_count": 10,
     "metadata": {},
     "output_type": "execute_result"
    }
   ],
   "source": [
    "## Calculate the mean population size per political party\n",
    "popsize = pd.DataFrame(townsdataset.groupby([\"Party\"])[\"PopSize\"].mean().reset_index())\n",
    "popsize.columns = [\"Party\",\"Mean Population Size\"]\n",
    "popsize\n"
   ]
  },
  {
   "cell_type": "code",
   "execution_count": 11,
   "metadata": {},
   "outputs": [
    {
     "data": {
      "text/html": [
       "<div>\n",
       "<style scoped>\n",
       "    .dataframe tbody tr th:only-of-type {\n",
       "        vertical-align: middle;\n",
       "    }\n",
       "\n",
       "    .dataframe tbody tr th {\n",
       "        vertical-align: top;\n",
       "    }\n",
       "\n",
       "    .dataframe thead th {\n",
       "        text-align: right;\n",
       "    }\n",
       "</style>\n",
       "<table border=\"1\" class=\"dataframe\">\n",
       "  <thead>\n",
       "    <tr style=\"text-align: right;\">\n",
       "      <th></th>\n",
       "      <th>Party</th>\n",
       "    </tr>\n",
       "  </thead>\n",
       "  <tbody>\n",
       "    <tr>\n",
       "      <th>Jubilee</th>\n",
       "      <td>5</td>\n",
       "    </tr>\n",
       "    <tr>\n",
       "      <th>NRM</th>\n",
       "      <td>2</td>\n",
       "    </tr>\n",
       "  </tbody>\n",
       "</table>\n",
       "</div>"
      ],
      "text/plain": [
       "         Party\n",
       "Jubilee      5\n",
       "NRM          2"
      ]
     },
     "execution_count": 11,
     "metadata": {},
     "output_type": "execute_result"
    }
   ],
   "source": [
    "##Calculate the number of entries per party.\n",
    "valuecounts = pd.DataFrame(townsdataset[\"Party\"].value_counts())\n",
    "valuecounts"
   ]
  },
  {
   "cell_type": "code",
   "execution_count": 12,
   "metadata": {},
   "outputs": [
    {
     "data": {
      "text/plain": [
       "count      7.000000\n",
       "mean     580.142857\n",
       "std      228.882378\n",
       "min      345.000000\n",
       "25%      410.500000\n",
       "50%      563.000000\n",
       "75%      677.000000\n",
       "max      978.000000\n",
       "Name: PopSize, dtype: float64"
      ]
     },
     "execution_count": 12,
     "metadata": {},
     "output_type": "execute_result"
    }
   ],
   "source": [
    "## Calculate various statistics of Population size\n",
    "townsdataset[\"PopSize\"].describe()"
   ]
  },
  {
   "cell_type": "code",
   "execution_count": 13,
   "metadata": {},
   "outputs": [
    {
     "data": {
      "text/html": [
       "<div>\n",
       "<style scoped>\n",
       "    .dataframe tbody tr th:only-of-type {\n",
       "        vertical-align: middle;\n",
       "    }\n",
       "\n",
       "    .dataframe tbody tr th {\n",
       "        vertical-align: top;\n",
       "    }\n",
       "\n",
       "    .dataframe thead th {\n",
       "        text-align: right;\n",
       "    }\n",
       "</style>\n",
       "<table border=\"1\" class=\"dataframe\">\n",
       "  <thead>\n",
       "    <tr style=\"text-align: right;\">\n",
       "      <th></th>\n",
       "      <th>Counties</th>\n",
       "      <th>Towns</th>\n",
       "      <th>PopSize</th>\n",
       "      <th>Residence</th>\n",
       "      <th>Party</th>\n",
       "      <th>Party2</th>\n",
       "    </tr>\n",
       "  </thead>\n",
       "  <tbody>\n",
       "    <tr>\n",
       "      <th>0</th>\n",
       "      <td>Kiambu</td>\n",
       "      <td>Kawangware</td>\n",
       "      <td>345</td>\n",
       "      <td>Urban</td>\n",
       "      <td>Jubilee</td>\n",
       "      <td>J</td>\n",
       "    </tr>\n",
       "    <tr>\n",
       "      <th>2</th>\n",
       "      <td>Nairobi</td>\n",
       "      <td>Umoja</td>\n",
       "      <td>978</td>\n",
       "      <td>Urban</td>\n",
       "      <td>Jubilee</td>\n",
       "      <td>J</td>\n",
       "    </tr>\n",
       "    <tr>\n",
       "      <th>5</th>\n",
       "      <td>Baringo</td>\n",
       "      <td>Mogotio</td>\n",
       "      <td>472</td>\n",
       "      <td>Urban</td>\n",
       "      <td>Jubilee</td>\n",
       "      <td>J</td>\n",
       "    </tr>\n",
       "  </tbody>\n",
       "</table>\n",
       "</div>"
      ],
      "text/plain": [
       "  Counties       Towns  PopSize Residence    Party Party2\n",
       "0   Kiambu  Kawangware      345     Urban  Jubilee      J\n",
       "2  Nairobi       Umoja      978     Urban  Jubilee      J\n",
       "5  Baringo     Mogotio      472     Urban  Jubilee      J"
      ]
     },
     "execution_count": 13,
     "metadata": {},
     "output_type": "execute_result"
    }
   ],
   "source": [
    "## Filter data of Jubilee Urban areas\n",
    "jubilee_urban = townsdataset.loc[(townsdataset[\"Residence\"]==\"Urban\")&(townsdataset[\"Party\"]==\"Jubilee\")]\n",
    "jubilee_urban"
   ]
  },
  {
   "cell_type": "code",
   "execution_count": null,
   "metadata": {},
   "outputs": [],
   "source": []
  },
  {
   "cell_type": "code",
   "execution_count": null,
   "metadata": {},
   "outputs": [],
   "source": [
    "\n"
   ]
  },
  {
   "cell_type": "code",
   "execution_count": null,
   "metadata": {},
   "outputs": [],
   "source": []
  },
  {
   "cell_type": "code",
   "execution_count": null,
   "metadata": {},
   "outputs": [],
   "source": []
  },
  {
   "cell_type": "code",
   "execution_count": null,
   "metadata": {},
   "outputs": [],
   "source": []
  }
 ],
 "metadata": {
  "kernelspec": {
   "display_name": "Python 3",
   "language": "python",
   "name": "python3"
  },
  "language_info": {
   "codemirror_mode": {
    "name": "ipython",
    "version": 3
   },
   "file_extension": ".py",
   "mimetype": "text/x-python",
   "name": "python",
   "nbconvert_exporter": "python",
   "pygments_lexer": "ipython3",
   "version": "3.6.5"
  }
 },
 "nbformat": 4,
 "nbformat_minor": 2
}

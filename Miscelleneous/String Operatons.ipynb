{
 "cells": [
  {
   "cell_type": "markdown",
   "metadata": {},
   "source": [
    "### Shelmith Kariuki 👩‍💻💃\n",
    "### Strings\n",
    "### 8th November, 2018"
   ]
  },
  {
   "cell_type": "markdown",
   "metadata": {},
   "source": [
    "There are various string operations in R that I find myself using on a daily basis. This include gsub (used to substitute a string with another one) and grepl(used to look for a string pattern in a given string statement).\n",
    "\n",
    "So I am going to try the same here in python. Wish me luck!!"
   ]
  },
  {
   "cell_type": "markdown",
   "metadata": {},
   "source": [
    "Question 1: How would we remove leading or trailing spaces in a string value?"
   ]
  },
  {
   "cell_type": "code",
   "execution_count": 1,
   "metadata": {},
   "outputs": [
    {
     "data": {
      "text/plain": [
       "[' Nyeri', 'Kisumu', 'Kirinyaga', ' Mombasa', 'Eldoret ']"
      ]
     },
     "execution_count": 1,
     "metadata": {},
     "output_type": "execute_result"
    }
   ],
   "source": [
    "counties = [\" Nyeri\",\"Kisumu\",\"Kirinyaga\",\" Mombasa\",\"Eldoret \"]\n",
    "counties"
   ]
  },
  {
   "cell_type": "markdown",
   "metadata": {},
   "source": [
    "From the data above, you can see that the counties Nyeri, Mombasa and Eldoret have leading and trailing spaces, that need to be removed."
   ]
  },
  {
   "cell_type": "code",
   "execution_count": 2,
   "metadata": {},
   "outputs": [
    {
     "name": "stdout",
     "output_type": "stream",
     "text": [
      "['Nyeri', 'Kisumu', 'Kirinyaga', 'Mombasa', 'Eldoret']\n"
     ]
    }
   ],
   "source": [
    "space_stripper = lambda x: x.strip()\n",
    "space_stripper = map(space_stripper,counties)\n",
    "print(list(space_stripper))"
   ]
  },
  {
   "cell_type": "markdown",
   "metadata": {},
   "source": [
    "💃 💃 💃 💃 💃.....I have done it. I learnt lambda and map function yesterday, and have used the same to apply the strip() function, to remove white spaces."
   ]
  },
  {
   "cell_type": "markdown",
   "metadata": {},
   "source": [
    "Question 2: How would you remove or replace strings with other strings in python?"
   ]
  },
  {
   "cell_type": "code",
   "execution_count": 3,
   "metadata": {},
   "outputs": [
    {
     "data": {
      "text/plain": [
       "[' +254766567821',\n",
       " ' +254786786482',\n",
       " ' +254765098672',\n",
       " ' +254745635612',\n",
       " '+254786534234 ']"
      ]
     },
     "execution_count": 3,
     "metadata": {},
     "output_type": "execute_result"
    }
   ],
   "source": [
    "cell_numbers = [\" +254766567821\",\" +254786786482\",\" +254765098672\",\" +254745635612\",\n",
    "                \"+254786534234 \"]\n",
    "cell_numbers\n"
   ]
  },
  {
   "cell_type": "markdown",
   "metadata": {},
   "source": [
    "So what we want to do, is to replace the kenyan code (+254) with 0, remove the trailing and leading spaces and convert the numbers to numeric."
   ]
  },
  {
   "cell_type": "code",
   "execution_count": 4,
   "metadata": {},
   "outputs": [
    {
     "name": "stdout",
     "output_type": "stream",
     "text": [
      "['+254766567821', '+254786786482', '+254765098672', '+254745635612', '+254786534234']\n",
      "['0766567821', '0786786482', '0765098672', '0745635612', '0786534234']\n"
     ]
    }
   ],
   "source": [
    "## Remove the spaces\n",
    "cell_numbers = list(map(lambda x: x.strip(),cell_numbers))\n",
    "print(cell_numbers)\n",
    "\n",
    "## Replace +254 with 0\n",
    "cell_numbers2 = list(map(lambda x: x.replace(\"+254\",\"0\"),cell_numbers))\n",
    "print(cell_numbers2)\n"
   ]
  },
  {
   "cell_type": "code",
   "execution_count": 5,
   "metadata": {},
   "outputs": [
    {
     "data": {
      "text/plain": [
       "' 0766567821'"
      ]
     },
     "execution_count": 5,
     "metadata": {},
     "output_type": "execute_result"
    }
   ],
   "source": [
    "num = \" +254766567821\"\n",
    "num =num.replace(\"+254\",\"0\")\n",
    "num"
   ]
  },
  {
   "cell_type": "code",
   "execution_count": 6,
   "metadata": {},
   "outputs": [
    {
     "data": {
      "text/plain": [
       "'0765098672'"
      ]
     },
     "execution_count": 6,
     "metadata": {},
     "output_type": "execute_result"
    }
   ],
   "source": [
    "c = lambda x: x.replace(\"+254\",\"0\")\n",
    "c(\" +254766567821\")\n",
    "c(\"+254765098672\")"
   ]
  },
  {
   "cell_type": "markdown",
   "metadata": {},
   "source": [
    "Question 3: Splitting a variable into two or more parts"
   ]
  },
  {
   "cell_type": "code",
   "execution_count": 7,
   "metadata": {},
   "outputs": [
    {
     "name": "stdout",
     "output_type": "stream",
     "text": [
      "['Shelmith', 'Silvia', 'James', 'James', 'Christine', 'Cyrus', 'Michael']\n",
      "['Kariuki', 'Kahihu', 'Kengah', 'Macharia', 'Okeyo', 'Muriithi', 'Osunga']\n"
     ]
    },
    {
     "data": {
      "text/html": [
       "<div>\n",
       "<style scoped>\n",
       "    .dataframe tbody tr th:only-of-type {\n",
       "        vertical-align: middle;\n",
       "    }\n",
       "\n",
       "    .dataframe tbody tr th {\n",
       "        vertical-align: top;\n",
       "    }\n",
       "\n",
       "    .dataframe thead th {\n",
       "        text-align: right;\n",
       "    }\n",
       "</style>\n",
       "<table border=\"1\" class=\"dataframe\">\n",
       "  <thead>\n",
       "    <tr style=\"text-align: right;\">\n",
       "      <th></th>\n",
       "      <th>Full_Name</th>\n",
       "      <th>First_Name</th>\n",
       "      <th>Last_Name</th>\n",
       "    </tr>\n",
       "  </thead>\n",
       "  <tbody>\n",
       "    <tr>\n",
       "      <th>0</th>\n",
       "      <td>Shelmith Kariuki</td>\n",
       "      <td>Shelmith</td>\n",
       "      <td>Kariuki</td>\n",
       "    </tr>\n",
       "    <tr>\n",
       "      <th>1</th>\n",
       "      <td>Silvia Kahihu</td>\n",
       "      <td>Silvia</td>\n",
       "      <td>Kahihu</td>\n",
       "    </tr>\n",
       "    <tr>\n",
       "      <th>2</th>\n",
       "      <td>James Kengah</td>\n",
       "      <td>James</td>\n",
       "      <td>Kengah</td>\n",
       "    </tr>\n",
       "    <tr>\n",
       "      <th>3</th>\n",
       "      <td>James Macharia</td>\n",
       "      <td>James</td>\n",
       "      <td>Macharia</td>\n",
       "    </tr>\n",
       "    <tr>\n",
       "      <th>4</th>\n",
       "      <td>Christine Okeyo</td>\n",
       "      <td>Christine</td>\n",
       "      <td>Okeyo</td>\n",
       "    </tr>\n",
       "    <tr>\n",
       "      <th>5</th>\n",
       "      <td>Cyrus Muriithi</td>\n",
       "      <td>Cyrus</td>\n",
       "      <td>Muriithi</td>\n",
       "    </tr>\n",
       "    <tr>\n",
       "      <th>6</th>\n",
       "      <td>Michael Osunga</td>\n",
       "      <td>Michael</td>\n",
       "      <td>Osunga</td>\n",
       "    </tr>\n",
       "  </tbody>\n",
       "</table>\n",
       "</div>"
      ],
      "text/plain": [
       "          Full_Name First_Name Last_Name\n",
       "0  Shelmith Kariuki   Shelmith   Kariuki\n",
       "1     Silvia Kahihu     Silvia    Kahihu\n",
       "2      James Kengah      James    Kengah\n",
       "3    James Macharia      James  Macharia\n",
       "4   Christine Okeyo  Christine     Okeyo\n",
       "5    Cyrus Muriithi      Cyrus  Muriithi\n",
       "6    Michael Osunga    Michael    Osunga"
      ]
     },
     "execution_count": 7,
     "metadata": {},
     "output_type": "execute_result"
    }
   ],
   "source": [
    "import pandas as pd\n",
    "names = [\"Shelmith Kariuki\",\"Silvia Kahihu\",\"James Kengah\",\"James Macharia\",\"Christine Okeyo\",\n",
    "        \"Cyrus Muriithi\",\"Michael Osunga\"]\n",
    "\n",
    "firstname = list(map(lambda x: x.split(\" \")[0],names))\n",
    "print(firstname)\n",
    "lastname = list(map(lambda x: x.split(\" \")[1],names))\n",
    "print(lastname)\n",
    "\n",
    "names_table = pd.DataFrame({\"Full_Name\":names, \"First_Name\":firstname,\"Last_Name\":lastname})\n",
    "names_table"
   ]
  },
  {
   "cell_type": "markdown",
   "metadata": {},
   "source": [
    "Question 4: Generate a variable that indicates the first letter of a string."
   ]
  },
  {
   "cell_type": "code",
   "execution_count": 8,
   "metadata": {},
   "outputs": [
    {
     "data": {
      "text/html": [
       "<div>\n",
       "<style scoped>\n",
       "    .dataframe tbody tr th:only-of-type {\n",
       "        vertical-align: middle;\n",
       "    }\n",
       "\n",
       "    .dataframe tbody tr th {\n",
       "        vertical-align: top;\n",
       "    }\n",
       "\n",
       "    .dataframe thead th {\n",
       "        text-align: right;\n",
       "    }\n",
       "</style>\n",
       "<table border=\"1\" class=\"dataframe\">\n",
       "  <thead>\n",
       "    <tr style=\"text-align: right;\">\n",
       "      <th></th>\n",
       "      <th>Full_Name</th>\n",
       "      <th>First_Name</th>\n",
       "      <th>Last_Name</th>\n",
       "      <th>First_Letter</th>\n",
       "    </tr>\n",
       "  </thead>\n",
       "  <tbody>\n",
       "    <tr>\n",
       "      <th>0</th>\n",
       "      <td>Shelmith Kariuki</td>\n",
       "      <td>Shelmith</td>\n",
       "      <td>Kariuki</td>\n",
       "      <td>S</td>\n",
       "    </tr>\n",
       "    <tr>\n",
       "      <th>1</th>\n",
       "      <td>Silvia Kahihu</td>\n",
       "      <td>Silvia</td>\n",
       "      <td>Kahihu</td>\n",
       "      <td>S</td>\n",
       "    </tr>\n",
       "    <tr>\n",
       "      <th>2</th>\n",
       "      <td>James Kengah</td>\n",
       "      <td>James</td>\n",
       "      <td>Kengah</td>\n",
       "      <td>J</td>\n",
       "    </tr>\n",
       "    <tr>\n",
       "      <th>3</th>\n",
       "      <td>James Macharia</td>\n",
       "      <td>James</td>\n",
       "      <td>Macharia</td>\n",
       "      <td>J</td>\n",
       "    </tr>\n",
       "    <tr>\n",
       "      <th>4</th>\n",
       "      <td>Christine Okeyo</td>\n",
       "      <td>Christine</td>\n",
       "      <td>Okeyo</td>\n",
       "      <td>C</td>\n",
       "    </tr>\n",
       "    <tr>\n",
       "      <th>5</th>\n",
       "      <td>Cyrus Muriithi</td>\n",
       "      <td>Cyrus</td>\n",
       "      <td>Muriithi</td>\n",
       "      <td>C</td>\n",
       "    </tr>\n",
       "    <tr>\n",
       "      <th>6</th>\n",
       "      <td>Michael Osunga</td>\n",
       "      <td>Michael</td>\n",
       "      <td>Osunga</td>\n",
       "      <td>M</td>\n",
       "    </tr>\n",
       "  </tbody>\n",
       "</table>\n",
       "</div>"
      ],
      "text/plain": [
       "          Full_Name First_Name Last_Name First_Letter\n",
       "0  Shelmith Kariuki   Shelmith   Kariuki            S\n",
       "1     Silvia Kahihu     Silvia    Kahihu            S\n",
       "2      James Kengah      James    Kengah            J\n",
       "3    James Macharia      James  Macharia            J\n",
       "4   Christine Okeyo  Christine     Okeyo            C\n",
       "5    Cyrus Muriithi      Cyrus  Muriithi            C\n",
       "6    Michael Osunga    Michael    Osunga            M"
      ]
     },
     "execution_count": 8,
     "metadata": {},
     "output_type": "execute_result"
    }
   ],
   "source": [
    "# first_letter = list(map(lambda x: list(x)[0],names_table[\"First_Name\"]))\n",
    "# first_letter\n",
    "names_table[\"First_Letter\"]=list(map(lambda x: list(x)[0],names_table[\"First_Name\"]))\n",
    "names_table"
   ]
  },
  {
   "cell_type": "code",
   "execution_count": null,
   "metadata": {},
   "outputs": [],
   "source": []
  }
 ],
 "metadata": {
  "kernelspec": {
   "display_name": "Python 3",
   "language": "python",
   "name": "python3"
  },
  "language_info": {
   "codemirror_mode": {
    "name": "ipython",
    "version": 3
   },
   "file_extension": ".py",
   "mimetype": "text/x-python",
   "name": "python",
   "nbconvert_exporter": "python",
   "pygments_lexer": "ipython3",
   "version": "3.6.5"
  }
 },
 "nbformat": 4,
 "nbformat_minor": 2
}

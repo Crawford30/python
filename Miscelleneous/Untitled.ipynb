{
 "cells": [
  {
   "cell_type": "code",
   "execution_count": 3,
   "metadata": {},
   "outputs": [
    {
     "name": "stdout",
     "output_type": "stream",
     "text": [
      "Collecting msgpack\n",
      "\u001b[?25l  Downloading https://files.pythonhosted.org/packages/f3/b6/9affbea179c3c03a0eb53515d9ce404809a122f76bee8fc8c6ec9497f51f/msgpack-0.5.6.tar.gz (138kB)\n",
      "\u001b[K    100% |████████████████████████████████| 143kB 1.1MB/s ta 0:00:01\n",
      "\u001b[?25hBuilding wheels for collected packages: msgpack\n",
      "  Running setup.py bdist_wheel for msgpack ... \u001b[?25ldone\n",
      "\u001b[?25h  Stored in directory: /Users/shelmith/Library/Caches/pip/wheels/f0/02/4c/525b56fce78c415eb8066f6554f9de02792df26b8f882f6d65\n",
      "Successfully built msgpack\n",
      "Installing collected packages: msgpack\n",
      "Successfully installed msgpack-0.5.6\n",
      "\u001b[33mYou are using pip version 10.0.1, however version 18.1 is available.\n",
      "You should consider upgrading via the 'pip install --upgrade pip' command.\u001b[0m\n"
     ]
    }
   ],
   "source": [
    "!pip install msgpack"
   ]
  },
  {
   "cell_type": "code",
   "execution_count": 8,
   "metadata": {},
   "outputs": [
    {
     "ename": "ModuleNotFoundError",
     "evalue": "No module named 'yowsup2'",
     "output_type": "error",
     "traceback": [
      "\u001b[0;31m---------------------------------------------------------------------------\u001b[0m",
      "\u001b[0;31mModuleNotFoundError\u001b[0m                       Traceback (most recent call last)",
      "\u001b[0;32m<ipython-input-8-bea02d0b6124>\u001b[0m in \u001b[0;36m<module>\u001b[0;34m()\u001b[0m\n\u001b[0;32m----> 1\u001b[0;31m \u001b[0;32mimport\u001b[0m \u001b[0myowsup2\u001b[0m\u001b[0;34m\u001b[0m\u001b[0m\n\u001b[0m",
      "\u001b[0;31mModuleNotFoundError\u001b[0m: No module named 'yowsup2'"
     ]
    }
   ],
   "source": [
    "import yowsup2"
   ]
  },
  {
   "cell_type": "code",
   "execution_count": 7,
   "metadata": {},
   "outputs": [
    {
     "name": "stdout",
     "output_type": "stream",
     "text": [
      "Requirement already satisfied: yowsup2 in /Users/shelmith/anaconda3/lib/python3.6/site-packages (2.5.7)\n",
      "Requirement already satisfied: python-dateutil in /Users/shelmith/anaconda3/lib/python3.6/site-packages (from yowsup2) (2.7.3)\n",
      "Requirement already satisfied: argparse in /Users/shelmith/anaconda3/lib/python3.6/site-packages (from yowsup2) (1.4.0)\n",
      "Requirement already satisfied: six==1.10 in /Users/shelmith/anaconda3/lib/python3.6/site-packages (from yowsup2) (1.10.0)\n",
      "Requirement already satisfied: python-axolotl>=0.1.39 in /Users/shelmith/anaconda3/lib/python3.6/site-packages (from yowsup2) (0.1.42)\n",
      "Requirement already satisfied: python-axolotl-curve25519 in /Users/shelmith/anaconda3/lib/python3.6/site-packages (from python-axolotl>=0.1.39->yowsup2) (0.4.1.post2)\n",
      "Requirement already satisfied: protobuf>=3.0.0.b2 in /Users/shelmith/anaconda3/lib/python3.6/site-packages (from python-axolotl>=0.1.39->yowsup2) (3.6.1)\n",
      "Requirement already satisfied: cryptography in /Users/shelmith/anaconda3/lib/python3.6/site-packages (from python-axolotl>=0.1.39->yowsup2) (2.2.2)\n",
      "Requirement already satisfied: setuptools in /Users/shelmith/anaconda3/lib/python3.6/site-packages (from protobuf>=3.0.0.b2->python-axolotl>=0.1.39->yowsup2) (39.1.0)\n",
      "Requirement already satisfied: idna>=2.1 in /Users/shelmith/anaconda3/lib/python3.6/site-packages (from cryptography->python-axolotl>=0.1.39->yowsup2) (2.6)\n",
      "Requirement already satisfied: asn1crypto>=0.21.0 in /Users/shelmith/anaconda3/lib/python3.6/site-packages (from cryptography->python-axolotl>=0.1.39->yowsup2) (0.24.0)\n",
      "Requirement already satisfied: cffi>=1.7 in /Users/shelmith/anaconda3/lib/python3.6/site-packages (from cryptography->python-axolotl>=0.1.39->yowsup2) (1.11.5)\n",
      "Requirement already satisfied: pycparser in /Users/shelmith/anaconda3/lib/python3.6/site-packages (from cffi>=1.7->cryptography->python-axolotl>=0.1.39->yowsup2) (2.18)\n",
      "\u001b[33mYou are using pip version 10.0.1, however version 18.1 is available.\n",
      "You should consider upgrading via the 'pip install --upgrade pip' command.\u001b[0m\n"
     ]
    }
   ],
   "source": [
    "!pip install yowsup2"
   ]
  },
  {
   "cell_type": "code",
   "execution_count": null,
   "metadata": {},
   "outputs": [],
   "source": []
  }
 ],
 "metadata": {
  "kernelspec": {
   "display_name": "Python 3",
   "language": "python",
   "name": "python3"
  },
  "language_info": {
   "codemirror_mode": {
    "name": "ipython",
    "version": 3
   },
   "file_extension": ".py",
   "mimetype": "text/x-python",
   "name": "python",
   "nbconvert_exporter": "python",
   "pygments_lexer": "ipython3",
   "version": "3.6.5"
  }
 },
 "nbformat": 4,
 "nbformat_minor": 2
}

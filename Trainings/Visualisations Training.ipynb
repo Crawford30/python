{
 "cells": [
  {
   "cell_type": "markdown",
   "metadata": {},
   "source": [
    "### Training on Visualizations"
   ]
  },
  {
   "cell_type": "markdown",
   "metadata": {},
   "source": [
    "<dt>There are different types of graphs<dt>\n",
    "\n",
    "<dd>1. Count Plot </dd>\n",
    "<dd>2. Bar Plot </dd>\n",
    "<dd>3. Line Plot </dd>\n",
    "<dd>4. Box Plot </dd>\n",
    "<dd>5. Histogram </dd>\n"
   ]
  },
  {
   "cell_type": "code",
   "execution_count": 3,
   "metadata": {},
   "outputs": [
    {
     "name": "stderr",
     "output_type": "stream",
     "text": [
      "/Users/shelmith/anaconda3/lib/python3.6/importlib/_bootstrap.py:219: RuntimeWarning: numpy.dtype size changed, may indicate binary incompatibility. Expected 96, got 88\n",
      "  return f(*args, **kwds)\n",
      "/Users/shelmith/anaconda3/lib/python3.6/importlib/_bootstrap.py:219: RuntimeWarning: numpy.dtype size changed, may indicate binary incompatibility. Expected 96, got 88\n",
      "  return f(*args, **kwds)\n",
      "/Users/shelmith/anaconda3/lib/python3.6/importlib/_bootstrap.py:219: RuntimeWarning: numpy.dtype size changed, may indicate binary incompatibility. Expected 96, got 88\n",
      "  return f(*args, **kwds)\n"
     ]
    }
   ],
   "source": [
    "# Importing the libraries that we require\n",
    "import pandas as pd\n",
    "import numpy as np\n",
    "import seaborn as sns\n",
    "import matplotlib.pyplot as plt"
   ]
  },
  {
   "cell_type": "code",
   "execution_count": 35,
   "metadata": {},
   "outputs": [
    {
     "data": {
      "text/plain": [
       "<Figure size 576x576 with 0 Axes>"
      ]
     },
     "metadata": {},
     "output_type": "display_data"
    }
   ],
   "source": [
    "# Set the plot theme\n",
    "plt.figure(figsize = (8,8))\n",
    "\n",
    "# Possible palette values are: Accent, Accent_r, Blues, Blues_r, BrBG, BrBG_r, BuGn, BuGn_r, \n",
    "    #BuPu, BuPu_r, CMRmap, CMRmap_r, Dark2, Dark2_r, GnBu, GnBu_r, Greens, Greens_r, Greys, Greys_r, OrRd, OrRd_r, Oranges, Oranges_r, PRGn, PRGn_r, Paired, Paired_r, Pastel1, Pastel1_r, Pastel2, Pastel2_r, PiYG, PiYG_r, PuBu, PuBuGn, PuBuGn_r, PuBu_r, PuOr, PuOr_r, PuRd, PuRd_r, Purples, Purples_r, RdBu, RdBu_r, RdGy, RdGy_r, RdPu, RdPu_r, RdYlBu, RdYlBu_r, RdYlGn, RdYlGn_r, Reds, Reds_r, Set1, Set1_r, Set2, Set2_r, Set3, Set3_r, Spectral, Spectral_r, Wistia, Wistia_r, YlGn, YlGnBu, YlGnBu_r, YlGn_r, YlOrBr, YlOrBr_r, YlOrRd, YlOrRd_r, afmhot, afmhot_r, autumn, autumn_r, binary, binary_r, bone, bone_r, brg, brg_r, bwr, bwr_r, cividis, cividis_r, cool, cool_r, coolwarm, coolwarm_r, copper, copper_r, cubehelix, cubehelix_r, flag, flag_r, gist_earth, gist_earth_r, gist_gray, gist_gray_r, gist_heat, gist_heat_r, gist_ncar, gist_ncar_r, gist_rainbow, gist_rainbow_r, gist_stern, gist_stern_r, gist_yarg, gist_yarg_r, gnuplot, gnuplot2, gnuplot2_r, gnuplot_r, gray, gray_r, hot, hot_r, hsv, hsv_r, icefire, icefire_r, inferno, inferno_r, jet, jet_r, magma, magma_r, mako, mako_r, nipy_spectral, nipy_spectral_r, ocean, ocean_r, pink, pink_r, plasma, plasma_r, prism, prism_r, rainbow, rainbow_r, rocket, rocket_r, seismic, seismic_r, spring, spring_r, summer, summer_r, tab10, tab10_r, tab20, tab20_r, tab20b, tab20b_r, tab20c, tab20c_r, terrain, terrain_r, viridis, viridis_r, vlag, vlag_r, winter, winter_r\n",
    "\n",
    "sns.set(palette=\"Blues_r\",font='sans-serif', font_scale=1.5,style = \"white\")"
   ]
  },
  {
   "cell_type": "code",
   "execution_count": 36,
   "metadata": {},
   "outputs": [],
   "source": [
    "# Generate the dataset that we need\n",
    "## Generate variables that will constitute the wafanyakazi dataset\n",
    "subject_id = np.random.choice(list(range(10000,20000,1)),size=500,replace=False)\n",
    "\n",
    "gender = np.random.choice(list([\"Male\",\"Female\"]),size = 500,replace=True)\n",
    "\n",
    "age = np.random.choice(list(range(18,51,1)),size = 500,replace=True)\n",
    "\n",
    "department = np.random.choice([\"Data\",\"Operations\",\"Finance\",\"Research Analyst\",\"Associate\"],size = 500,replace=True)\n",
    "\n",
    "role = np.random.choice([\"Junior\",\"Mid\",\"Senior\"],size = 500, replace = True)\n",
    "\n",
    "income = np.random.choice(list(range(1000,10000,217)),size = 500, replace=True)\n",
    "\n",
    "marital_status = np.random.choice([\"Single\",\"Married\",\"Divorced\"],size = 500, replace = True)\n",
    "\n",
    "county = np.random.choice([\"Nyeri\",\"Kisumu\",\"Taita\",\"Embu\",\"Kirinyaga\",\"Laikipia\",\"Wajir\",\"Mombasa\",\"Lamu\",\n",
    "                           \"Kiambu\",\"Nairobi\"],size = 500, replace=True)\n",
    "\n",
    "leave_days = np.random.choice(list(range(0,25,1)),size = 500, replace=True)\n",
    "\n",
    "promotion = np.random.choice([\"Yes\",\"No\"],size = 500, replace=True)\n",
    "\n",
    "##Combine these variables into a dictionary, then into dataframe\n",
    "wafanyikazi =pd.DataFrame({\"Sid\":subject_id,\"Gender\":gender,\"Age\":age,\"Department\":department,\n",
    "                           \"Role\": role,\"Income\": income,\"Marital_Status\":marital_status,\"County\":county,\n",
    "                           \"Leave_Days\": leave_days,\"Promotion\": promotion})\n"
   ]
  },
  {
   "cell_type": "code",
   "execution_count": 43,
   "metadata": {},
   "outputs": [
    {
     "data": {
      "text/plain": [
       "[Text(0,0.5,'Percentage'),\n",
       " Text(0.5,0,'Gender'),\n",
       " Text(0.5,1,'Distribution of Gender')]"
      ]
     },
     "execution_count": 43,
     "metadata": {},
     "output_type": "execute_result"
    },
    {
     "data": {
      "image/png": "[encoded data removed]",
      "text/plain": [
       "<Figure size 432x288 with 1 Axes>"
      ]
     },
     "metadata": {},
     "output_type": "display_data"
    }
   ],
   "source": [
    "#Gender\n",
    "Gender_data = pd.DataFrame(wafanyikazi.Gender.value_counts().reset_index())\n",
    "Gender_data.columns=[\"Gender\",\"Frequency\"]\n",
    "Gender_data[\"Percentage\"]=((Gender_data[\"Frequency\"]/Gender_data[\"Frequency\"].sum()*100).round(1))\n",
    "Gender_ax = sns.barplot(x=\"Gender\",y=\"Percentage\", data=Gender_data)\n",
    "Gender_ax.set(title = \"Distribution of Gender\",xlabel=\"Gender\",ylabel=\"Percentage\")"
   ]
  },
  {
   "cell_type": "code",
   "execution_count": 38,
   "metadata": {},
   "outputs": [
    {
     "data": {
      "text/plain": [
       "(0, 150)"
      ]
     },
     "execution_count": 38,
     "metadata": {},
     "output_type": "execute_result"
    },
    {
     "data": {
      "image/png": "[encoded data removed]",
      "text/plain": [
       "<Figure size 432x288 with 1 Axes>"
      ]
     },
     "metadata": {},
     "output_type": "display_data"
    }
   ],
   "source": [
    "# Roles by Gender\n",
    "\n",
    "rg_ax = sns.countplot(x = \"Role\",hue=\"Gender\",data=wafanyikazi)\n",
    "rg_ax.set_ylim(bottom=0,top=150)"
   ]
  },
  {
   "cell_type": "code",
   "execution_count": 41,
   "metadata": {},
   "outputs": [],
   "source": [
    "\n",
    "sns.countplot?"
   ]
  },
  {
   "cell_type": "code",
   "execution_count": 44,
   "metadata": {},
   "outputs": [
    {
     "data": {
      "text/html": [
       "<div>\n",
       "<style scoped>\n",
       "    .dataframe tbody tr th:only-of-type {\n",
       "        vertical-align: middle;\n",
       "    }\n",
       "\n",
       "    .dataframe tbody tr th {\n",
       "        vertical-align: top;\n",
       "    }\n",
       "\n",
       "    .dataframe thead th {\n",
       "        text-align: right;\n",
       "    }\n",
       "</style>\n",
       "<table border=\"1\" class=\"dataframe\">\n",
       "  <thead>\n",
       "    <tr style=\"text-align: right;\">\n",
       "      <th></th>\n",
       "      <th>Gender</th>\n",
       "      <th>Frequency</th>\n",
       "      <th>Percentage</th>\n",
       "    </tr>\n",
       "  </thead>\n",
       "  <tbody>\n",
       "    <tr>\n",
       "      <th>0</th>\n",
       "      <td>Female</td>\n",
       "      <td>259</td>\n",
       "      <td>51.8</td>\n",
       "    </tr>\n",
       "    <tr>\n",
       "      <th>1</th>\n",
       "      <td>Male</td>\n",
       "      <td>241</td>\n",
       "      <td>48.2</td>\n",
       "    </tr>\n",
       "  </tbody>\n",
       "</table>\n",
       "</div>"
      ],
      "text/plain": [
       "   Gender  Frequency  Percentage\n",
       "0  Female        259        51.8\n",
       "1    Male        241        48.2"
      ]
     },
     "execution_count": 44,
     "metadata": {},
     "output_type": "execute_result"
    }
   ],
   "source": [
    "Gender_data"
   ]
  },
  {
   "cell_type": "code",
   "execution_count": 75,
   "metadata": {},
   "outputs": [
    {
     "name": "stderr",
     "output_type": "stream",
     "text": [
      "/Users/shelmith/anaconda3/lib/python3.6/site-packages/matplotlib/axes/_axes.py:6462: UserWarning: The 'normed' kwarg is deprecated, and has been replaced by the 'density' kwarg.\n",
      "  warnings.warn(\"The 'normed' kwarg is deprecated, and has been \"\n"
     ]
    },
    {
     "data": {
      "text/plain": [
       "<matplotlib.axes._subplots.AxesSubplot at 0x1a17901eb8>"
      ]
     },
     "execution_count": 75,
     "metadata": {},
     "output_type": "execute_result"
    },
    {
     "data": {
      "image/png": "[encoded data removed]",
      "text/plain": [
       "<Figure size 432x288 with 1 Axes>"
      ]
     },
     "metadata": {},
     "output_type": "display_data"
    }
   ],
   "source": [
    "sns.distplot(pd.Series(wafanyikazi.Income),\n",
    "            kde_kws={\"linewidth\": 3,\"color\": \"black\"}, \n",
    "            hist_kws={\"color\": \"brown\"})"
   ]
  },
  {
   "cell_type": "code",
   "execution_count": 46,
   "metadata": {},
   "outputs": [],
   "source": [
    "sns.distplot?\n"
   ]
  },
  {
   "cell_type": "code",
   "execution_count": 49,
   "metadata": {},
   "outputs": [
    {
     "data": {
      "text/plain": [
       "0      27\n",
       "1      40\n",
       "2      38\n",
       "3      26\n",
       "4      46\n",
       "5      34\n",
       "6      31\n",
       "7      31\n",
       "8      49\n",
       "9      24\n",
       "10     21\n",
       "11     39\n",
       "12     32\n",
       "13     43\n",
       "14     46\n",
       "15     41\n",
       "16     21\n",
       "17     44\n",
       "18     24\n",
       "19     30\n",
       "20     42\n",
       "21     46\n",
       "22     50\n",
       "23     44\n",
       "24     23\n",
       "25     25\n",
       "26     21\n",
       "27     37\n",
       "28     39\n",
       "29     27\n",
       "       ..\n",
       "470    25\n",
       "471    32\n",
       "472    27\n",
       "473    47\n",
       "474    49\n",
       "475    50\n",
       "476    38\n",
       "477    45\n",
       "478    45\n",
       "479    42\n",
       "480    50\n",
       "481    35\n",
       "482    33\n",
       "483    33\n",
       "484    46\n",
       "485    46\n",
       "486    40\n",
       "487    33\n",
       "488    38\n",
       "489    33\n",
       "490    28\n",
       "491    42\n",
       "492    40\n",
       "493    33\n",
       "494    19\n",
       "495    50\n",
       "496    26\n",
       "497    31\n",
       "498    43\n",
       "499    36\n",
       "Name: Age, Length: 500, dtype: int64"
      ]
     },
     "execution_count": 49,
     "metadata": {},
     "output_type": "execute_result"
    }
   ],
   "source": [
    "x=pd.Series(wafanyikazi.Age)\n",
    "x"
   ]
  },
  {
   "cell_type": "code",
   "execution_count": 76,
   "metadata": {},
   "outputs": [],
   "source": [
    "sns.factorplot?"
   ]
  },
  {
   "cell_type": "code",
   "execution_count": null,
   "metadata": {},
   "outputs": [],
   "source": []
  }
 ],
 "metadata": {
  "kernelspec": {
   "display_name": "Python 3",
   "language": "python",
   "name": "python3"
  },
  "language_info": {
   "codemirror_mode": {
    "name": "ipython",
    "version": 3
   },
   "file_extension": ".py",
   "mimetype": "text/x-python",
   "name": "python",
   "nbconvert_exporter": "python",
   "pygments_lexer": "ipython3",
   "version": "3.6.5"
  }
 },
 "nbformat": 4,
 "nbformat_minor": 2
}
